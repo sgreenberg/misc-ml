{
 "cells": [
  {
   "cell_type": "code",
   "execution_count": 37,
   "metadata": {},
   "outputs": [],
   "source": [
    "from google.cloud import bigquery\n",
    "client = bigquery.Client() \n",
    "# Note I have set up GOOGLE_APPLICATION_CREDENTIALS and GOOGLE_CLOUD_PROJECT environment variables\n",
    "# per https://google-cloud-python.readthedocs.io/en/latest/bigquery/usage.html#id3"
   ]
  },
  {
   "cell_type": "code",
   "execution_count": 38,
   "metadata": {},
   "outputs": [],
   "source": [
    "QUERY = \"\"\"SELECT \n",
    "              source, \n",
    "              REGEXP_REPLACE(title, '[^a-zA-Z0-9 $.-]', ' ') AS title, \n",
    "              time_ts, \n",
    "              id\n",
    "           FROM\n",
    "            (SELECT\n",
    "              ARRAY_REVERSE(SPLIT(REGEXP_EXTRACT(url, '.*://(.[^/]+)/'), '.'))[OFFSET(1)] AS source,\n",
    "              title, \n",
    "              time_ts, \n",
    "              id\n",
    "             FROM\n",
    "              `bigquery-public-data.hacker_news.stories`\n",
    "             WHERE\n",
    "              REGEXP_CONTAINS(REGEXP_EXTRACT(url, '.*://(.[^/]+)/'), '.com$')\n",
    "              AND LENGTH(title) > 10\n",
    "            )\n",
    "           WHERE (source = 'techcrunch' OR source = 'nytimes') AND time_ts > '2015-01-01'\n",
    "           \"\"\""
   ]
  },
  {
   "cell_type": "code",
   "execution_count": 39,
   "metadata": {},
   "outputs": [],
   "source": [
    "import pandas as pd\n",
    "import pandas_gbq\n",
    "\n",
    "PROJECT_ID='sgreenberg-project2'\n",
    "\n",
    "df = pandas_gbq.read_gbq(project_id=PROJECT_ID, dialect='standard', query=QUERY)"
   ]
  },
  {
   "cell_type": "markdown",
   "metadata": {},
   "source": [
    "# Adding a space between words\n",
    "\n",
    "**Need Hayato's help to create some Japanese text that will show off the NL tokenization.**"
   ]
  },
  {
   "cell_type": "code",
   "execution_count": 3,
   "metadata": {},
   "outputs": [],
   "source": [
    "#from google.cloud import language\n",
    "#nl_client = language.Client()\n",
    "\n",
    "#def wakachi(msg):\n",
    "#    document = nl_client.document_from_text(msg)\n",
    "#    response = document.analyze_syntax()\n",
    "#    tx_wakachi = \" \".join([tkn.text_content for tkn in response.tokens])\n",
    "#    return tx_wakachi\n",
    "\n",
    "#df['msg_wakachi'] = df.message.apply(wakachi)"
   ]
  },
  {
   "cell_type": "code",
   "execution_count": 41,
   "metadata": {},
   "outputs": [
    {
     "data": {
      "text/html": [
       "<div>\n",
       "<style scoped>\n",
       "    .dataframe tbody tr th:only-of-type {\n",
       "        vertical-align: middle;\n",
       "    }\n",
       "\n",
       "    .dataframe tbody tr th {\n",
       "        vertical-align: top;\n",
       "    }\n",
       "\n",
       "    .dataframe thead th {\n",
       "        text-align: right;\n",
       "    }\n",
       "</style>\n",
       "<table border=\"1\" class=\"dataframe\">\n",
       "  <thead>\n",
       "    <tr style=\"text-align: right;\">\n",
       "      <th></th>\n",
       "      <th>source</th>\n",
       "      <th>title</th>\n",
       "      <th>time_ts</th>\n",
       "      <th>id</th>\n",
       "    </tr>\n",
       "  </thead>\n",
       "  <tbody>\n",
       "    <tr>\n",
       "      <th>0</th>\n",
       "      <td>nytimes</td>\n",
       "      <td>4chan Message Board Sold  to Founder of 2Chann...</td>\n",
       "      <td>2015-09-21 22:41:41</td>\n",
       "      <td>10255585</td>\n",
       "    </tr>\n",
       "    <tr>\n",
       "      <th>1</th>\n",
       "      <td>nytimes</td>\n",
       "      <td>Big Price Increase for Tuberculosis Drug Is Re...</td>\n",
       "      <td>2015-09-21 22:43:57</td>\n",
       "      <td>10255601</td>\n",
       "    </tr>\n",
       "    <tr>\n",
       "      <th>2</th>\n",
       "      <td>nytimes</td>\n",
       "      <td>Stop Googling. Let s Talk</td>\n",
       "      <td>2015-09-29 04:50:13</td>\n",
       "      <td>10294707</td>\n",
       "    </tr>\n",
       "    <tr>\n",
       "      <th>3</th>\n",
       "      <td>nytimes</td>\n",
       "      <td>NYC Mayor to require computer science in city ...</td>\n",
       "      <td>2015-09-15 23:29:44</td>\n",
       "      <td>10223767</td>\n",
       "    </tr>\n",
       "    <tr>\n",
       "      <th>4</th>\n",
       "      <td>nytimes</td>\n",
       "      <td>Rethinking Work</td>\n",
       "      <td>2015-09-01 05:30:35</td>\n",
       "      <td>10150884</td>\n",
       "    </tr>\n",
       "  </tbody>\n",
       "</table>\n",
       "</div>"
      ],
      "text/plain": [
       "    source                                              title  \\\n",
       "0  nytimes  4chan Message Board Sold  to Founder of 2Chann...   \n",
       "1  nytimes  Big Price Increase for Tuberculosis Drug Is Re...   \n",
       "2  nytimes                          Stop Googling. Let s Talk   \n",
       "3  nytimes  NYC Mayor to require computer science in city ...   \n",
       "4  nytimes                                    Rethinking Work   \n",
       "\n",
       "              time_ts        id  \n",
       "0 2015-09-21 22:41:41  10255585  \n",
       "1 2015-09-21 22:43:57  10255601  \n",
       "2 2015-09-29 04:50:13  10294707  \n",
       "3 2015-09-15 23:29:44  10223767  \n",
       "4 2015-09-01 05:30:35  10150884  "
      ]
     },
     "execution_count": 41,
     "metadata": {},
     "output_type": "execute_result"
    }
   ],
   "source": [
    "df.head()"
   ]
  },
  {
   "cell_type": "markdown",
   "metadata": {},
   "source": [
    "# Vectorize all sentences with TfidfVectorizer"
   ]
  },
  {
   "cell_type": "code",
   "execution_count": 42,
   "metadata": {},
   "outputs": [
    {
     "name": "stderr",
     "output_type": "stream",
     "text": [
      "/Users/sgreenberg/.pyenv/versions/anaconda2-4.3.1/lib/python2.7/site-packages/ipykernel_launcher.py:8: FutureWarning: Method .as_matrix will be removed in a future version. Use .values instead.\n",
      "  \n"
     ]
    }
   ],
   "source": [
    "from sklearn.feature_extraction.text import TfidfVectorizer\n",
    "from sklearn.svm import LinearSVC\n",
    "import numpy as np\n",
    "\n",
    "vectorizer = TfidfVectorizer(sublinear_tf=True)\n",
    "features = vectorizer.fit_transform(df.title)\n",
    "\n",
    "labels = pd.get_dummies(df.source)['nytimes'].as_matrix()"
   ]
  },
  {
   "cell_type": "markdown",
   "metadata": {},
   "source": [
    "# Split dataset into train and test"
   ]
  },
  {
   "cell_type": "code",
   "execution_count": 43,
   "metadata": {},
   "outputs": [],
   "source": [
    "from sklearn.model_selection import train_test_split\n",
    "\n",
    "X_train, X_test, y_train, y_test = train_test_split(\n",
    "    features, labels, test_size=0.1, random_state=42)"
   ]
  },
  {
   "cell_type": "markdown",
   "metadata": {},
   "source": [
    "# Classify test data with Linear SVM"
   ]
  },
  {
   "cell_type": "code",
   "execution_count": 44,
   "metadata": {},
   "outputs": [
    {
     "data": {
      "text/plain": [
       "0.8441215323645971"
      ]
     },
     "execution_count": 44,
     "metadata": {},
     "output_type": "execute_result"
    }
   ],
   "source": [
    "clf = LinearSVC(penalty='l2', dual=False, tol=1e-3)\n",
    "\n",
    "clf.fit(X_train, y_train)\n",
    "pred = clf.predict(X_test)\n",
    "clf.score(X_test, y_test)"
   ]
  },
  {
   "cell_type": "markdown",
   "metadata": {},
   "source": [
    "# Let's classify the category of sentence; NYTimes\n",
    "Correct label is 1"
   ]
  },
  {
   "cell_type": "code",
   "execution_count": 45,
   "metadata": {},
   "outputs": [
    {
     "data": {
      "text/plain": [
       "array([1], dtype=uint8)"
      ]
     },
     "execution_count": 45,
     "metadata": {},
     "output_type": "execute_result"
    }
   ],
   "source": [
    "txt_nyt = u'New York State Governor announces new educational vision'\n",
    "\n",
    "feature_nyt = vectorizer.transform([txt_nyt])\n",
    "clf.predict(feature_nyt)"
   ]
  },
  {
   "cell_type": "markdown",
   "metadata": {},
   "source": [
    "# Let's classify the category of sentence ; TechCrunch\n",
    "Correct label is 0"
   ]
  },
  {
   "cell_type": "code",
   "execution_count": 46,
   "metadata": {},
   "outputs": [
    {
     "data": {
      "text/plain": [
       "array([0], dtype=uint8)"
      ]
     },
     "execution_count": 46,
     "metadata": {},
     "output_type": "execute_result"
    }
   ],
   "source": [
    "txt_techcrunch = u'YouTube Launches new channel service in partnership with Google Photos'\n",
    "\n",
    "feature_techcrunch = vectorizer.transform([txt_techcrunch])\n",
    "clf.predict(feature_techcrunch)"
   ]
  },
  {
   "cell_type": "code",
   "execution_count": null,
   "metadata": {},
   "outputs": [],
   "source": []
  }
 ],
 "metadata": {
  "kernelspec": {
   "display_name": "Python 2",
   "language": "python",
   "name": "python2"
  },
  "language_info": {
   "codemirror_mode": {
    "name": "ipython",
    "version": 2
   },
   "file_extension": ".py",
   "mimetype": "text/x-python",
   "name": "python",
   "nbconvert_exporter": "python",
   "pygments_lexer": "ipython2",
   "version": "2.7.15"
  }
 },
 "nbformat": 4,
 "nbformat_minor": 2
}
