{
 "cells": [
  {
   "cell_type": "code",
   "execution_count": 2,
   "metadata": {},
   "outputs": [
    {
     "ename": "IndentationError",
     "evalue": "unexpected indent (<ipython-input-2-655814443faf>, line 3)",
     "output_type": "error",
     "traceback": [
      "\u001b[0;36m  File \u001b[0;32m\"<ipython-input-2-655814443faf>\"\u001b[0;36m, line \u001b[0;32m3\u001b[0m\n\u001b[0;31m    *\u001b[0m\n\u001b[0m    ^\u001b[0m\n\u001b[0;31mIndentationError\u001b[0m\u001b[0;31m:\u001b[0m unexpected indent\n"
     ]
    }
   ],
   "source": [
    "%bq query\n",
    "SELECT\n",
    "  *\n",
    "FROM\n",
    "  bubbles.gcpugmlday\n",
    "ORDER BY\n",
    "  score DESC,\n",
    "  magnitude DESC\n",
    "LIMIT\n",
    "  10"
   ]
  },
  {
   "cell_type": "code",
   "execution_count": 2,
   "metadata": {},
   "outputs": [
    {
     "name": "stdout",
     "output_type": "stream",
     "text": [
      "Requesting query... ok.\n",
      "Query running...\n",
      "Query done.\n",
      "Processed: 101.0 b\n",
      "\n",
      "Retrieving results...\n",
      "Got 111 rows.\n",
      "\n",
      "Total time taken 1.65 s.\n",
      "Finished at 2017-11-01 11:15:31.\n"
     ]
    }
   ],
   "source": [
    "import pandas as pd\n",
    "\n",
    "query = \"SELECT message,team FROM bubbles.gcpugmlday WHERE score>0.2\"\n",
    "df = pd.read_gbq(project_id='nl-bubble', query=query)"
   ]
  },
  {
   "cell_type": "markdown",
   "metadata": {},
   "source": [
    "# Leaving a space between words"
   ]
  },
  {
   "cell_type": "code",
   "execution_count": 3,
   "metadata": {},
   "outputs": [],
   "source": [
    "from google.cloud import language\n",
    "nl_client = language.Client()\n",
    "\n",
    "def wakachi(msg):\n",
    "    document = nl_client.document_from_text(msg)\n",
    "    response = document.analyze_syntax()\n",
    "    tx_wakachi = \" \".join([tkn.text_content for tkn in response.tokens])\n",
    "    return tx_wakachi\n",
    "\n",
    "df['msg_wakachi'] = df.message.apply(wakachi)"
   ]
  },
  {
   "cell_type": "code",
   "execution_count": 4,
   "metadata": {},
   "outputs": [
    {
     "data": {
      "text/html": [
       "<div>\n",
       "<table border=\"1\" class=\"dataframe\">\n",
       "  <thead>\n",
       "    <tr style=\"text-align: right;\">\n",
       "      <th></th>\n",
       "      <th>message</th>\n",
       "      <th>team</th>\n",
       "      <th>msg_wakachi</th>\n",
       "    </tr>\n",
       "  </thead>\n",
       "  <tbody>\n",
       "    <tr>\n",
       "      <th>0</th>\n",
       "      <td>GAEは最高だよね</td>\n",
       "      <td>A</td>\n",
       "      <td>GAE は 最高 だ よ ね</td>\n",
       "    </tr>\n",
       "    <tr>\n",
       "      <th>1</th>\n",
       "      <td>オンプレからEC2に移行して安くなった！</td>\n",
       "      <td>B</td>\n",
       "      <td>オンプレ から EC 2 に 移行 し て 安く なっ た ！</td>\n",
       "    </tr>\n",
       "    <tr>\n",
       "      <th>2</th>\n",
       "      <td>いっぱいサービスがある</td>\n",
       "      <td>B</td>\n",
       "      <td>いっぱい サービス が ある</td>\n",
       "    </tr>\n",
       "    <tr>\n",
       "      <th>3</th>\n",
       "      <td>I feel like a million bucks!!</td>\n",
       "      <td>A</td>\n",
       "      <td>I feel like a million bucks ! !</td>\n",
       "    </tr>\n",
       "    <tr>\n",
       "      <th>4</th>\n",
       "      <td>使いやすい</td>\n",
       "      <td>B</td>\n",
       "      <td>使い やすい</td>\n",
       "    </tr>\n",
       "  </tbody>\n",
       "</table>\n",
       "</div>"
      ],
      "text/plain": [
       "                         message team                      msg_wakachi\n",
       "0                      GAEは最高だよね    A                   GAE は 最高 だ よ ね\n",
       "1           オンプレからEC2に移行して安くなった！    B  オンプレ から EC 2 に 移行 し て 安く なっ た ！\n",
       "2                    いっぱいサービスがある    B                   いっぱい サービス が ある\n",
       "3  I feel like a million bucks!!    A  I feel like a million bucks ! !\n",
       "4                          使いやすい    B                           使い やすい"
      ]
     },
     "execution_count": 4,
     "metadata": {},
     "output_type": "execute_result"
    }
   ],
   "source": [
    "df.head()"
   ]
  },
  {
   "cell_type": "markdown",
   "metadata": {},
   "source": [
    "# Vectorize all sentences with TfidfVectorizer"
   ]
  },
  {
   "cell_type": "code",
   "execution_count": 5,
   "metadata": {},
   "outputs": [],
   "source": [
    "from sklearn.feature_extraction.text import TfidfVectorizer\n",
    "from sklearn.svm import LinearSVC\n",
    "import numpy as np\n",
    "\n",
    "vectorizer = TfidfVectorizer(sublinear_tf=True)\n",
    "features = vectorizer.fit_transform(df.msg_wakachi)\n",
    "\n",
    "labels = pd.get_dummies(df.team)['B'].as_matrix()"
   ]
  },
  {
   "cell_type": "markdown",
   "metadata": {},
   "source": [
    "# Split dataset into train and test"
   ]
  },
  {
   "cell_type": "code",
   "execution_count": 6,
   "metadata": {
    "collapsed": true
   },
   "outputs": [],
   "source": [
    "from sklearn.model_selection import train_test_split\n",
    "\n",
    "X_train, X_test, y_train, y_test = train_test_split(\n",
    "    features, labels, test_size=0.1, random_state=42)"
   ]
  },
  {
   "cell_type": "markdown",
   "metadata": {},
   "source": [
    "# Classify test data with Linear SVM"
   ]
  },
  {
   "cell_type": "code",
   "execution_count": 7,
   "metadata": {},
   "outputs": [
    {
     "data": {
      "text/plain": [
       "0.58333333333333337"
      ]
     },
     "execution_count": 7,
     "metadata": {},
     "output_type": "execute_result"
    }
   ],
   "source": [
    "clf = LinearSVC(penalty='l2', dual=False, tol=1e-3)\n",
    "\n",
    "clf.fit(X_train, y_train)\n",
    "pred = clf.predict(X_test)\n",
    "clf.score(X_test, y_test)"
   ]
  },
  {
   "cell_type": "markdown",
   "metadata": {},
   "source": [
    "# Let's classify the category of sentence ; AWS\n",
    "Correct label is 0"
   ]
  },
  {
   "cell_type": "code",
   "execution_count": 8,
   "metadata": {},
   "outputs": [
    {
     "data": {
      "text/plain": [
       "array([0], dtype=uint8)"
      ]
     },
     "execution_count": 8,
     "metadata": {},
     "output_type": "execute_result"
    }
   ],
   "source": [
    "txt_aws = u'EC2の料金が秒単位になってよかったね。'  # GCPもだけどな！\n",
    "\n",
    "feature_aws = vectorizer.transform([wakachi(txt_aws)])\n",
    "clf.predict(feature_aws)"
   ]
  },
  {
   "cell_type": "markdown",
   "metadata": {},
   "source": [
    "# Let's classify the category of sentence ; GCP\n",
    "Correct label is 1"
   ]
  },
  {
   "cell_type": "code",
   "execution_count": 9,
   "metadata": {},
   "outputs": [
    {
     "data": {
      "text/plain": [
       "array([0], dtype=uint8)"
      ]
     },
     "execution_count": 9,
     "metadata": {},
     "output_type": "execute_result"
    }
   ],
   "source": [
    "txt_gcp = u'GAEは立ち上がり数十ms、超速い！' \n",
    "\n",
    "feature_gcp = vectorizer.transform([wakachi(txt_aws)])\n",
    "clf.predict(feature_gcp)"
   ]
  },
  {
   "cell_type": "markdown",
   "metadata": {},
   "source": [
    "# Why it works?\n",
    "## ... or it doesn't"
   ]
  },
  {
   "cell_type": "code",
   "execution_count": 10,
   "metadata": {},
   "outputs": [
    {
     "data": {
      "text/plain": [
       "<matplotlib.text.Text at 0x7fc3f8cfe050>"
      ]
     },
     "execution_count": 10,
     "metadata": {},
     "output_type": "execute_result"
    },
    {
     "data": {
      "image/png": "[encoded data removed]",
      "text/plain": [
       "<matplotlib.figure.Figure at 0x7fc3fb205410>"
      ]
     },
     "metadata": {},
     "output_type": "display_data"
    }
   ],
   "source": [
    "import matplotlib.pyplot as plt\n",
    "from sklearn.decomposition import PCA\n",
    "pca = PCA(n_components=2)\n",
    "X_r = pca.fit_transform(features.toarray())\n",
    "\n",
    "plt.figure()\n",
    "colors = ['navy', 'darkorange']\n",
    "target_names = ['A', 'B']\n",
    "lw = 2\n",
    "\n",
    "for color, i, target_name in zip(colors, [0, 1], target_names):\n",
    "    plt.scatter(X_r[labels == i, 0], X_r[labels == i, 1], color=color, alpha=.8, lw=lw,\n",
    "                label=target_name)\n",
    "plt.legend(loc='best', shadow=False, scatterpoints=1)\n",
    "plt.title('PCA')"
   ]
  },
  {
   "cell_type": "code",
   "execution_count": 11,
   "metadata": {
    "collapsed": true
   },
   "outputs": [],
   "source": [
    "df.team.to_csv('./embedding/emb.tsv', index=False)"
   ]
  },
  {
   "cell_type": "code",
   "execution_count": 12,
   "metadata": {
    "collapsed": true
   },
   "outputs": [],
   "source": [
    "import os\n",
    "import tensorflow as tf\n",
    "from tensorflow.contrib.tensorboard.plugins import projector\n",
    "\n",
    "LOG_DIR = './embedding'\n",
    "\n",
    "with tf.Graph().as_default():\n",
    "    \n",
    "    embedding_var = tf.Variable(features.toarray(), name='word_embedding')\n",
    "    saver = tf.train.Saver()\n",
    "    \n",
    "    with tf.Session() as sess:\n",
    "        sess.run(tf.global_variables_initializer())\n",
    "        saver.save(sess, os.path.join(LOG_DIR, \"model.ckpt\"), 0)\n",
    "\n",
    "        # Format: tensorflow/tensorboard/plugins/projector/projector_config.proto\n",
    "        config = projector.ProjectorConfig()\n",
    "\n",
    "        # You can add multiple embeddings. Here we add only one.\n",
    "        embedding = config.embeddings.add()\n",
    "        embedding.tensor_name = embedding_var.name\n",
    "        \n",
    "        # Link this tensor to its metadata file (e.g. labels).\n",
    "        embedding.metadata_path = 'emb.tsv'\n",
    "\n",
    "        # Use the same LOG_DIR where you stored your checkpoint.\n",
    "        summary_writer = tf.summary.FileWriter(LOG_DIR)\n",
    "\n",
    "        # The next line writes a projector_config.pbtxt in the LOG_DIR. TensorBoard will\n",
    "        # read this file during startup.\n",
    "        projector.visualize_embeddings(summary_writer, config)"
   ]
  },
  {
   "cell_type": "code",
   "execution_count": 13,
   "metadata": {},
   "outputs": [
    {
     "data": {
      "text/html": [
       "<p>TensorBoard was started successfully with pid 291. Click <a href=\"/_proxy/45784/\" target=\"_blank\">here</a> to access it.</p>"
      ]
     },
     "metadata": {},
     "output_type": "display_data"
    }
   ],
   "source": [
    "from google.datalab.ml._tensorboard import TensorBoard\n",
    "tb = TensorBoard()\n",
    "tb_pid = tb.start('./embedding')"
   ]
  }
 ],
 "metadata": {
  "kernelspec": {
   "display_name": "Python 2",
   "language": "python",
   "name": "python2"
  },
  "language_info": {
   "codemirror_mode": {
    "name": "ipython",
    "version": 2
   },
   "file_extension": ".py",
   "mimetype": "text/x-python",
   "name": "python",
   "nbconvert_exporter": "python",
   "pygments_lexer": "ipython2",
   "version": "2.7.15"
  }
 },
 "nbformat": 4,
 "nbformat_minor": 2
}
